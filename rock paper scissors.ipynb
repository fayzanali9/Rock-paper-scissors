{
 "cells": [
  {
   "cell_type": "code",
   "execution_count": null,
   "metadata": {},
   "outputs": [],
   "source": [
    "print(\"Made by fayzan ali\")\n",
    "lose = \"Computer wins\"\n",
    "win = \"You win\"\n",
    "lives  = 5\n",
    "score = 0\n",
    "drew = 0 \n",
    "computer_lives = 7\n",
    "while True:\n",
    "    print(\"To begin fill in the below\")\n",
    "    username =`input(\"Enter your username: \")\n",
    "    password = input(\"Enter your password: \")\n",
    "    searchfile = open(\"accounts.csv\",\"r\")\n",
    "    for line in searchfile:\n",
    "        if username and password in line:\n",
    "            print(\"access granted\")\n",
    "            print(\"WELCOME TO \\n ROCK \\n PAPER \\n AND \\n SCISSORS\")\n",
    "            print(\"Rules are as follows\")\n",
    "            print(\"You start with \",lives,\"lives\")\n",
    "            print(\"If uou win ,you get a extra life\")\n",
    "            print(\"If you lose, you lose a life\")\n",
    "            print(\"If its a draw ,lives stay the same\")\n",
    "            print(\"Make sure you don't use capitals\")\n",
    "            print(\"To see a list of rules type rules\")\n",
    "            print(\"At any point type exit ,to exit the game\")\n",
    "            print(\"Goodluck\")\n",
    "            while True:\n",
    "                rps = input(\"rock ,paper ,scissors? \")\n",
    "                import random\n",
    "                computer  =  (\"rock\",\"paper\",\"scissors\")\n",
    "                computer = random.choice(computer)"
   ]
  }
 ],
 "metadata": {
  "kernelspec": {
   "display_name": "Python 3",
   "language": "python",
   "name": "python3"
  },
  "language_info": {
   "codemirror_mode": {
    "name": "ipython",
    "version": 3
   },
   "file_extension": ".py",
   "mimetype": "text/x-python",
   "name": "python",
   "nbconvert_exporter": "python",
   "pygments_lexer": "ipython3",
   "version": "3.7.6"
  }
 },
 "nbformat": 4,
 "nbformat_minor": 4
}
